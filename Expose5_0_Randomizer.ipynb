{
  "nbformat": 4,
  "nbformat_minor": 0,
  "metadata": {
    "colab": {
      "provenance": [],
      "authorship_tag": "ABX9TyPbv9UuZ0sDYBUQId88cR00",
      "include_colab_link": true
    },
    "kernelspec": {
      "name": "python3",
      "display_name": "Python 3"
    },
    "language_info": {
      "name": "python"
    }
  },
  "cells": [
    {
      "cell_type": "markdown",
      "metadata": {
        "id": "view-in-github",
        "colab_type": "text"
      },
      "source": [
        "<a href=\"https://colab.research.google.com/github/OlatunjiHassan/My-Python-bites/blob/main/Expose5_0_Randomizer.ipynb\" target=\"_parent\"><img src=\"https://colab.research.google.com/assets/colab-badge.svg\" alt=\"Open In Colab\"/></a>"
      ]
    },
    {
      "cell_type": "code",
      "execution_count": 1,
      "metadata": {
        "id": "qB5Onrn7tlpp"
      },
      "outputs": [],
      "source": [
        "def add_speaker(register):\n",
        "  print('Input speakers registration names then status (Pro or Am). Type done when you are do with inputing the names.\\n')\n",
        "  number_of_speakers = input('How many speakers do you want? ')\n",
        "  i = 0\n",
        "  while i < int(number_of_speakers):\n",
        "    name = input('Input registration name: ')\n",
        "    stat = input('Pro or Am? ')\n",
        "    register[name] = stat\n",
        "    i = i + 1\n",
        "  print(register)\n",
        "  return register"
      ]
    },
    {
      "cell_type": "code",
      "source": [
        "def randomizer(register):\n",
        "  import random\n",
        "  pros = []\n",
        "  ams = []\n",
        "  for name, stat in register.items():\n",
        "    if stat.lower() == 'pro':\n",
        "      pros.append(name)\n",
        "    if stat.lower() == 'am':\n",
        "      ams.append(name)\n",
        "  for name in pros:\n",
        "    print(f'{name} is a Pro.')\n",
        "  for name in ams:\n",
        "    print(f'{name} is an Am.')\n",
        "  random.shuffle(pros)\n",
        "  random.shuffle(ams)\n",
        "  i = 0\n",
        "  teams = []\n",
        "  while i != len(pros) and i != len(ams):\n",
        "    team = (pros[i], ams[i])\n",
        "    teams.append(team)\n",
        "    print(f'Team{i + 1}: {pros[i]} and {ams[i]}')\n",
        "    i = i + 1\n",
        "  return teams\n",
        "\n",
        "\n"
      ],
      "metadata": {
        "id": "n_idEHq6vBts"
      },
      "execution_count": 16,
      "outputs": []
    },
    {
      "cell_type": "code",
      "source": [
        "register = {}\n",
        "new_register = add_speaker(register)"
      ],
      "metadata": {
        "colab": {
          "base_uri": "https://localhost:8080/"
        },
        "id": "SDygmr9I-cra",
        "outputId": "074eb7bd-ae6d-441e-9198-4513e145f45f"
      },
      "execution_count": 14,
      "outputs": [
        {
          "output_type": "stream",
          "name": "stdout",
          "text": [
            "Input speakers registration names then status (Pro or Am). Type done when you are do with inputing the names.\n",
            "\n",
            "How many speakers do you want? 16\n",
            "Input registration name: Sodiq Farhan\n",
            "Pro or Am? pro\n",
            "Input registration name: Hassan Abubakar\n",
            "Pro or Am? pro\n",
            "Input registration name: Peace Ibiso John Kalio\n",
            "Pro or Am? pro\n",
            "Input registration name: Tivlumun Alexander\n",
            "Pro or Am? Am\n",
            "Input registration name: Obayemi Abimbola\n",
            "Pro or Am? pro\n",
            "Input registration name: Adetunji Tesleem\n",
            "Pro or Am? pro\n",
            "Input registration name: Opoola Opeyemi Toluwase\n",
            "Pro or Am? pro\n",
            "Input registration name: Kareem Adunola Afusat\n",
            "Pro or Am? am\n",
            "Input registration name: Oluwole Victor\n",
            "Pro or Am? pro\n",
            "Input registration name: Babajide Joseph\n",
            "Pro or Am? pro\n",
            "Input registration name: Olaniyi Tomiwa\n",
            "Pro or Am? am\n",
            "Input registration name: Adewoye Favour\n",
            "Pro or Am? am\n",
            "Input registration name: Adediran Timothy\n",
            "Pro or Am? am\n",
            "Input registration name: Adebiyi Hameedat\n",
            "Pro or Am? am\n",
            "Input registration name: Oluwayomi Kayode\n",
            "Pro or Am? am\n",
            "Input registration name: Ibraheem Qareebat Adedoyin\n",
            "Pro or Am? am\n",
            "{'Sodiq Farhan': 'pro', 'Hassan Abubakar': 'pro', 'Peace Ibiso John Kalio': 'pro', 'Tivlumun Alexander': 'Am', 'Obayemi Abimbola': 'pro', 'Adetunji Tesleem': 'pro', 'Opoola Opeyemi Toluwase': 'pro', 'Kareem Adunola Afusat': 'am', 'Oluwole Victor': 'pro', 'Babajide Joseph': 'pro', 'Olaniyi Tomiwa': 'am', 'Adewoye Favour': 'am', 'Adediran Timothy': 'am', 'Adebiyi Hameedat': 'am', 'Oluwayomi Kayode': 'am', 'Ibraheem Qareebat Adedoyin': 'am'}\n"
          ]
        }
      ]
    },
    {
      "cell_type": "code",
      "source": [
        "random = randomizer(new_register)"
      ],
      "metadata": {
        "colab": {
          "base_uri": "https://localhost:8080/"
        },
        "id": "Ok2yH-YlIyYJ",
        "outputId": "a9be5f1b-b70c-4a10-8ddb-705e07c32ec0"
      },
      "execution_count": 21,
      "outputs": [
        {
          "output_type": "stream",
          "name": "stdout",
          "text": [
            "Sodiq Farhan is a Pro.\n",
            "Hassan Abubakar is a Pro.\n",
            "Peace Ibiso John Kalio is a Pro.\n",
            "Obayemi Abimbola is a Pro.\n",
            "Adetunji Tesleem is a Pro.\n",
            "Opoola Opeyemi Toluwase is a Pro.\n",
            "Oluwole Victor is a Pro.\n",
            "Babajide Joseph is a Pro.\n",
            "Tivlumun Alexander is an Am.\n",
            "Kareem Adunola Afusat is an Am.\n",
            "Olaniyi Tomiwa is an Am.\n",
            "Adewoye Favour is an Am.\n",
            "Adediran Timothy is an Am.\n",
            "Adebiyi Hameedat is an Am.\n",
            "Oluwayomi Kayode is an Am.\n",
            "Ibraheem Qareebat Adedoyin is an Am.\n",
            "Team1: Peace Ibiso John Kalio and Tivlumun Alexander\n",
            "Team2: Hassan Abubakar and Adewoye Favour\n",
            "Team3: Oluwole Victor and Ibraheem Qareebat Adedoyin\n",
            "Team4: Opoola Opeyemi Toluwase and Adebiyi Hameedat\n",
            "Team5: Sodiq Farhan and Olaniyi Tomiwa\n",
            "Team6: Adetunji Tesleem and Oluwayomi Kayode\n",
            "Team7: Babajide Joseph and Adediran Timothy\n",
            "Team8: Obayemi Abimbola and Kareem Adunola Afusat\n"
          ]
        }
      ]
    },
    {
      "cell_type": "code",
      "source": [
        "a = 'ABUBA'\n",
        "a.lower()"
      ],
      "metadata": {
        "colab": {
          "base_uri": "https://localhost:8080/",
          "height": 35
        },
        "id": "-MInnk68OtTb",
        "outputId": "cd0f3ce2-d0b1-4f6e-8f77-f2099c9f9cd8"
      },
      "execution_count": 15,
      "outputs": [
        {
          "output_type": "execute_result",
          "data": {
            "text/plain": [
              "'abuba'"
            ],
            "application/vnd.google.colaboratory.intrinsic+json": {
              "type": "string"
            }
          },
          "metadata": {},
          "execution_count": 15
        }
      ]
    }
  ]
}