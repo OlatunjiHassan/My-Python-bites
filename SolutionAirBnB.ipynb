{
  "nbformat": 4,
  "nbformat_minor": 0,
  "metadata": {
    "colab": {
      "provenance": [],
      "authorship_tag": "ABX9TyPr1anSyI+8Px2Pi00KLlGe",
      "include_colab_link": true
    },
    "kernelspec": {
      "name": "python3",
      "display_name": "Python 3"
    },
    "language_info": {
      "name": "python"
    }
  },
  "cells": [
    {
      "cell_type": "markdown",
      "metadata": {
        "id": "view-in-github",
        "colab_type": "text"
      },
      "source": [
        "<a href=\"https://colab.research.google.com/github/OlatunjiHassan/My-Python-bites/blob/main/SolutionAirBnB.ipynb\" target=\"_parent\"><img src=\"https://colab.research.google.com/assets/colab-badge.svg\" alt=\"Open In Colab\"/></a>"
      ]
    },
    {
      "cell_type": "code",
      "execution_count": 3,
      "metadata": {
        "id": "st4ZjwpzyEqM"
      },
      "outputs": [],
      "source": [
        "import pandas as pd\n",
        "import numpy as np\n",
        "import matplotlib.pyplot as plt\n",
        "import seaborn as sns\n",
        "%matplotlib inline\n"
      ]
    },
    {
      "cell_type": "markdown",
      "source": [
        "Use this air bnb new york city data set and remove outliers using percentile based on price per night for a given apartment/home. You can use suitable upper and lower limits on percentile based on your intuition. Your goal is to come up with new pandas dataframe that doesn't have the outliers present in it.\n",
        "\n",
        "The below shows the reality of the price column. It shows the mean being 152.7 and 50% of the data less than 106. 75% of the data less than 175 but 100% less or equal to 10000. This proves that there are outliers towards the maximum price.\n",
        "\n"
      ],
      "metadata": {
        "id": "AzO8RCDOyHZB"
      }
    },
    {
      "cell_type": "code",
      "source": [
        "df = pd.read_csv('AB_NYC_2019.csv')\n",
        "df['price'].describe()"
      ],
      "metadata": {
        "colab": {
          "base_uri": "https://localhost:8080/"
        },
        "id": "W24YNkQPy1n1",
        "outputId": "269261cf-dea7-462c-ef74-a6ec38218bcf"
      },
      "execution_count": 4,
      "outputs": [
        {
          "output_type": "execute_result",
          "data": {
            "text/plain": [
              "count    48895.000000\n",
              "mean       152.720687\n",
              "std        240.154170\n",
              "min          0.000000\n",
              "25%         69.000000\n",
              "50%        106.000000\n",
              "75%        175.000000\n",
              "max      10000.000000\n",
              "Name: price, dtype: float64"
            ]
          },
          "metadata": {},
          "execution_count": 4
        }
      ]
    },
    {
      "cell_type": "markdown",
      "source": [
        "I pointed out the most extreme values\n"
      ],
      "metadata": {
        "id": "liC-K627fiRY"
      }
    },
    {
      "cell_type": "code",
      "source": [
        "low_outliers = df.price.quantile(0.01)\n",
        "high_outliers = df.price.quantile(0.99)\n",
        "print(low_outliers, high_outliers)"
      ],
      "metadata": {
        "colab": {
          "base_uri": "https://localhost:8080/"
        },
        "id": "Rpx7NZmz0nBD",
        "outputId": "ff56ab0e-bc4d-41c6-ef1f-1c3b8a92ca82"
      },
      "execution_count": 5,
      "outputs": [
        {
          "output_type": "stream",
          "name": "stdout",
          "text": [
            "30.0 799.0\n"
          ]
        }
      ]
    },
    {
      "cell_type": "markdown",
      "source": [
        "Then we create a new dataframe using only the data between these two extremes. This way. the outliers are eliminated."
      ],
      "metadata": {
        "id": "KTnMvdgqgUKl"
      }
    },
    {
      "cell_type": "code",
      "source": [
        "no_outliers = df[(df.price < high_outliers)&(df.price > low_outliers)]\n",
        "no_outliers.price.describe()"
      ],
      "metadata": {
        "colab": {
          "base_uri": "https://localhost:8080/"
        },
        "id": "S2qDb4zD6qTY",
        "outputId": "10c413c1-59e0-473c-c94c-990ffcc5bd30"
      },
      "execution_count": 6,
      "outputs": [
        {
          "output_type": "execute_result",
          "data": {
            "text/plain": [
              "count    47744.000000\n",
              "mean       138.832503\n",
              "std        102.890554\n",
              "min         31.000000\n",
              "25%         70.000000\n",
              "50%        108.000000\n",
              "75%        175.000000\n",
              "max        795.000000\n",
              "Name: price, dtype: float64"
            ]
          },
          "metadata": {},
          "execution_count": 6
        }
      ]
    },
    {
      "cell_type": "code",
      "source": [],
      "metadata": {
        "id": "VdDjbRvZ5Sqo"
      },
      "execution_count": 7,
      "outputs": []
    },
    {
      "cell_type": "markdown",
      "source": [],
      "metadata": {
        "id": "oIbXv56qk6md"
      }
    }
  ]
}